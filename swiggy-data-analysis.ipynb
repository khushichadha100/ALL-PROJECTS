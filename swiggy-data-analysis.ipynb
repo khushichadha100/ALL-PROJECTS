{
 "cells": [
  {
   "cell_type": "markdown",
   "id": "05f7af36-8d0c-4b2d-8026-54adeca9e66e",
   "metadata": {},
   "source": [
    "Importing Libraries"
   ]
  },
  {
   "cell_type": "code",
   "execution_count": 2,
   "id": "29669c8b-d5a4-4e86-9690-2c131a298ab1",
   "metadata": {},
   "outputs": [],
   "source": [
    "import pandas as pd\n",
    "import matplotlib.pyplot as plt\n",
    "import seaborn as sns"
   ]
  },
  {
   "cell_type": "markdown",
   "id": "e5b5812c-d187-425d-a9c4-c6b917d3a099",
   "metadata": {},
   "source": [
    "Data overview"
   ]
  },
  {
   "cell_type": "code",
   "execution_count": 4,
   "id": "c5d8d565-490d-468f-849b-2052398cce5d",
   "metadata": {},
   "outputs": [
    {
     "data": {
      "text/html": [
       "<div>\n",
       "<style scoped>\n",
       "    .dataframe tbody tr th:only-of-type {\n",
       "        vertical-align: middle;\n",
       "    }\n",
       "\n",
       "    .dataframe tbody tr th {\n",
       "        vertical-align: top;\n",
       "    }\n",
       "\n",
       "    .dataframe thead th {\n",
       "        text-align: right;\n",
       "    }\n",
       "</style>\n",
       "<table border=\"1\" class=\"dataframe\">\n",
       "  <thead>\n",
       "    <tr style=\"text-align: right;\">\n",
       "      <th></th>\n",
       "      <th>Shop_Name</th>\n",
       "      <th>Cuisine</th>\n",
       "      <th>Location</th>\n",
       "      <th>Rating</th>\n",
       "      <th>Cost_for_Two</th>\n",
       "    </tr>\n",
       "  </thead>\n",
       "  <tbody>\n",
       "    <tr>\n",
       "      <th>0</th>\n",
       "      <td>Kanti Sweets</td>\n",
       "      <td>Sweets</td>\n",
       "      <td>Koramangala, Koramangala</td>\n",
       "      <td>4.3</td>\n",
       "      <td>₹ 150</td>\n",
       "    </tr>\n",
       "    <tr>\n",
       "      <th>1</th>\n",
       "      <td>Mumbai Tiffin</td>\n",
       "      <td>North Indian, Home Food, Thalis, Combo</td>\n",
       "      <td>Sector 5, HSR</td>\n",
       "      <td>4.4</td>\n",
       "      <td>₹ 400</td>\n",
       "    </tr>\n",
       "    <tr>\n",
       "      <th>2</th>\n",
       "      <td>Sri Krishna sagar</td>\n",
       "      <td>South Indian, North Indian, Fast Food, Beverag...</td>\n",
       "      <td>6th Block, Koramangala</td>\n",
       "      <td>4.1</td>\n",
       "      <td>₹ 126</td>\n",
       "    </tr>\n",
       "    <tr>\n",
       "      <th>3</th>\n",
       "      <td>Al Daaz</td>\n",
       "      <td>American, Arabian, Chinese, Desserts, Fast Foo...</td>\n",
       "      <td>HSR, HSR</td>\n",
       "      <td>4.4</td>\n",
       "      <td>₹ 400</td>\n",
       "    </tr>\n",
       "    <tr>\n",
       "      <th>4</th>\n",
       "      <td>Beijing Bites</td>\n",
       "      <td>Chinese, Thai</td>\n",
       "      <td>5th Block, Koramangala</td>\n",
       "      <td>4.1</td>\n",
       "      <td>₹ 450</td>\n",
       "    </tr>\n",
       "  </tbody>\n",
       "</table>\n",
       "</div>"
      ],
      "text/plain": [
       "           Shop_Name                                            Cuisine  \\\n",
       "0       Kanti Sweets                                             Sweets   \n",
       "1      Mumbai Tiffin             North Indian, Home Food, Thalis, Combo   \n",
       "2  Sri Krishna sagar  South Indian, North Indian, Fast Food, Beverag...   \n",
       "3            Al Daaz  American, Arabian, Chinese, Desserts, Fast Foo...   \n",
       "4      Beijing Bites                                      Chinese, Thai   \n",
       "\n",
       "                   Location Rating Cost_for_Two  \n",
       "0  Koramangala, Koramangala    4.3        ₹ 150  \n",
       "1             Sector 5, HSR    4.4        ₹ 400  \n",
       "2    6th Block, Koramangala    4.1        ₹ 126  \n",
       "3                  HSR, HSR    4.4        ₹ 400  \n",
       "4    5th Block, Koramangala    4.1        ₹ 450  "
      ]
     },
     "execution_count": 4,
     "metadata": {},
     "output_type": "execute_result"
    }
   ],
   "source": [
    "data=pd.read_csv(\"swiggy_banglore_outlet_data_analysis.csv\")\n",
    "data.head()"
   ]
  },
  {
   "cell_type": "code",
   "execution_count": 5,
   "id": "935ccbfb-fa6a-419b-8df3-169c127c0095",
   "metadata": {},
   "outputs": [
    {
     "name": "stdout",
     "output_type": "stream",
     "text": [
      "<class 'pandas.core.frame.DataFrame'>\n",
      "RangeIndex: 118 entries, 0 to 117\n",
      "Data columns (total 5 columns):\n",
      " #   Column        Non-Null Count  Dtype \n",
      "---  ------        --------------  ----- \n",
      " 0   Shop_Name     118 non-null    object\n",
      " 1   Cuisine       118 non-null    object\n",
      " 2   Location      118 non-null    object\n",
      " 3   Rating        118 non-null    object\n",
      " 4   Cost_for_Two  118 non-null    object\n",
      "dtypes: object(5)\n",
      "memory usage: 4.7+ KB\n"
     ]
    }
   ],
   "source": [
    "data.info()"
   ]
  },
  {
   "cell_type": "code",
   "execution_count": 6,
   "id": "b03a7074-002b-4a0c-b28a-475ffeb5cc21",
   "metadata": {},
   "outputs": [
    {
     "data": {
      "text/plain": [
       "(118, 5)"
      ]
     },
     "execution_count": 6,
     "metadata": {},
     "output_type": "execute_result"
    }
   ],
   "source": [
    "data.shape"
   ]
  },
  {
   "cell_type": "code",
   "execution_count": 7,
   "id": "10930e12-e6ff-49e1-850e-ef533a5734e8",
   "metadata": {},
   "outputs": [
    {
     "data": {
      "text/plain": [
       "Shop_Name       0\n",
       "Cuisine         0\n",
       "Location        0\n",
       "Rating          0\n",
       "Cost_for_Two    0\n",
       "dtype: int64"
      ]
     },
     "execution_count": 7,
     "metadata": {},
     "output_type": "execute_result"
    }
   ],
   "source": [
    "data.isnull().sum()"
   ]
  },
  {
   "cell_type": "code",
   "execution_count": 8,
   "id": "c4cfcc4b-288f-49bc-9582-0ed6fbb1805a",
   "metadata": {},
   "outputs": [
    {
     "data": {
      "text/plain": [
       "array(['4.3', '4.4', '4.1', '4.4', '4.1', '4.2', '4.1', '3.9', '4.1',\n",
       "       '3.8', '4.1', '4', '4.3', '4.3', '4.2', '4.1', '4.1', '3.7', '4.2',\n",
       "       '4.1', '4.3', '4', '4', '4.1', '4.3', '4.1', '4.1', '4.1', '3.9',\n",
       "       '4', '3.9', '4.2', '4', '4.3', '4.3', '3.9', '4.1', '3.8', '4.1',\n",
       "       '4.3', '4.3', '4.3', '4.1', '4.3', '4.1', '3.7', '4', '4', '4.4',\n",
       "       '4.1', '3.7', '4', '3.9', '4.1', '4.1', '4.1', '4.3', '4', '4',\n",
       "       '4.3', '4.1', '3.9', '4.1', '4.3', '3.7', '4', '4.2', '3.9', '3.9',\n",
       "       '4', '3.9', '3.6', '4.3', '4', '4.3', '3.8', '4.2', '4.3', '4.8',\n",
       "       '4.2', '4.5', '4.1', '4.6', '4', '3.7', '4.3', '4', '4.1', '4.3',\n",
       "       '4.1', '4.3', '4.3', '4.1', '4.1', '4.6', '4.2', '4', '3.9', '--',\n",
       "       '4.1', '4.1', '3.8', '3.9', '3.6', '3.7', '4', '4', '4', '4.3',\n",
       "       '4', '4', '4.4', '3.9', '3.9', '4.1', '4.2', '4.3', '4.2'],\n",
       "      dtype=object)"
      ]
     },
     "execution_count": 8,
     "metadata": {},
     "output_type": "execute_result"
    }
   ],
   "source": [
    "data['Rating'].values"
   ]
  },
  {
   "cell_type": "code",
   "execution_count": 9,
   "id": "8201e538-d502-4a00-9414-1459a3acb435",
   "metadata": {},
   "outputs": [
    {
     "data": {
      "text/html": [
       "<div>\n",
       "<style scoped>\n",
       "    .dataframe tbody tr th:only-of-type {\n",
       "        vertical-align: middle;\n",
       "    }\n",
       "\n",
       "    .dataframe tbody tr th {\n",
       "        vertical-align: top;\n",
       "    }\n",
       "\n",
       "    .dataframe thead th {\n",
       "        text-align: right;\n",
       "    }\n",
       "</style>\n",
       "<table border=\"1\" class=\"dataframe\">\n",
       "  <thead>\n",
       "    <tr style=\"text-align: right;\">\n",
       "      <th></th>\n",
       "      <th>Shop_Name</th>\n",
       "      <th>Cuisine</th>\n",
       "      <th>Location</th>\n",
       "      <th>Rating</th>\n",
       "      <th>Cost_for_Two</th>\n",
       "    </tr>\n",
       "  </thead>\n",
       "  <tbody>\n",
       "    <tr>\n",
       "      <th>count</th>\n",
       "      <td>118</td>\n",
       "      <td>118</td>\n",
       "      <td>118</td>\n",
       "      <td>118</td>\n",
       "      <td>118</td>\n",
       "    </tr>\n",
       "    <tr>\n",
       "      <th>unique</th>\n",
       "      <td>115</td>\n",
       "      <td>79</td>\n",
       "      <td>65</td>\n",
       "      <td>13</td>\n",
       "      <td>30</td>\n",
       "    </tr>\n",
       "    <tr>\n",
       "      <th>top</th>\n",
       "      <td>La Pino'z Pizza</td>\n",
       "      <td>North Indian</td>\n",
       "      <td>BTM, BTM</td>\n",
       "      <td>4.1</td>\n",
       "      <td>₹ 300</td>\n",
       "    </tr>\n",
       "    <tr>\n",
       "      <th>freq</th>\n",
       "      <td>2</td>\n",
       "      <td>12</td>\n",
       "      <td>13</td>\n",
       "      <td>30</td>\n",
       "      <td>16</td>\n",
       "    </tr>\n",
       "  </tbody>\n",
       "</table>\n",
       "</div>"
      ],
      "text/plain": [
       "              Shop_Name       Cuisine  Location Rating Cost_for_Two\n",
       "count               118           118       118    118          118\n",
       "unique              115            79        65     13           30\n",
       "top     La Pino'z Pizza  North Indian  BTM, BTM    4.1        ₹ 300\n",
       "freq                  2            12        13     30           16"
      ]
     },
     "execution_count": 9,
     "metadata": {},
     "output_type": "execute_result"
    }
   ],
   "source": [
    "data.describe()"
   ]
  },
  {
   "cell_type": "markdown",
   "id": "d4673f5b-ce5b-44e3-9288-1fd92dd511d2",
   "metadata": {},
   "source": [
    "Data Cleaning and Replacement"
   ]
  },
  {
   "cell_type": "code",
   "execution_count": 11,
   "id": "0d75af05-f7ae-41df-9a51-918c41191e53",
   "metadata": {},
   "outputs": [],
   "source": [
    "data['Rating']=data['Rating'].str.replace('--','0')"
   ]
  },
  {
   "cell_type": "code",
   "execution_count": 12,
   "id": "c8a285cd-8984-4a15-bf31-52ec07913afe",
   "metadata": {},
   "outputs": [],
   "source": [
    "data['Rating']=data['Rating'].astype(\"float\")"
   ]
  },
  {
   "cell_type": "code",
   "execution_count": 13,
   "id": "ebe36527-0bb1-4ed7-9ae8-dbbf03c3c5f6",
   "metadata": {},
   "outputs": [
    {
     "data": {
      "text/plain": [
       "array([4.3, 4.4, 4.1, 4.4, 4.1, 4.2, 4.1, 3.9, 4.1, 3.8, 4.1, 4. , 4.3,\n",
       "       4.3, 4.2, 4.1, 4.1, 3.7, 4.2, 4.1, 4.3, 4. , 4. , 4.1, 4.3, 4.1,\n",
       "       4.1, 4.1, 3.9, 4. , 3.9, 4.2, 4. , 4.3, 4.3, 3.9, 4.1, 3.8, 4.1,\n",
       "       4.3, 4.3, 4.3, 4.1, 4.3, 4.1, 3.7, 4. , 4. , 4.4, 4.1, 3.7, 4. ,\n",
       "       3.9, 4.1, 4.1, 4.1, 4.3, 4. , 4. , 4.3, 4.1, 3.9, 4.1, 4.3, 3.7,\n",
       "       4. , 4.2, 3.9, 3.9, 4. , 3.9, 3.6, 4.3, 4. , 4.3, 3.8, 4.2, 4.3,\n",
       "       4.8, 4.2, 4.5, 4.1, 4.6, 4. , 3.7, 4.3, 4. , 4.1, 4.3, 4.1, 4.3,\n",
       "       4.3, 4.1, 4.1, 4.6, 4.2, 4. , 3.9, 0. , 4.1, 4.1, 3.8, 3.9, 3.6,\n",
       "       3.7, 4. , 4. , 4. , 4.3, 4. , 4. , 4.4, 3.9, 3.9, 4.1, 4.2, 4.3,\n",
       "       4.2])"
      ]
     },
     "execution_count": 13,
     "metadata": {},
     "output_type": "execute_result"
    }
   ],
   "source": [
    "data['Rating'].values"
   ]
  },
  {
   "cell_type": "code",
   "execution_count": 14,
   "id": "ece96cbe-4696-454a-9ca6-5a00b1b60b60",
   "metadata": {},
   "outputs": [
    {
     "data": {
      "text/plain": [
       "Shop_Name        object\n",
       "Cuisine          object\n",
       "Location         object\n",
       "Rating          float64\n",
       "Cost_for_Two     object\n",
       "dtype: object"
      ]
     },
     "execution_count": 14,
     "metadata": {},
     "output_type": "execute_result"
    }
   ],
   "source": [
    "data.dtypes"
   ]
  },
  {
   "cell_type": "code",
   "execution_count": 15,
   "id": "f73bf18c-2cd2-4560-a7f3-0075dae19ce3",
   "metadata": {},
   "outputs": [
    {
     "name": "stdout",
     "output_type": "stream",
     "text": [
      "<class 'pandas.core.frame.DataFrame'>\n",
      "RangeIndex: 118 entries, 0 to 117\n",
      "Data columns (total 5 columns):\n",
      " #   Column        Non-Null Count  Dtype  \n",
      "---  ------        --------------  -----  \n",
      " 0   Shop_Name     118 non-null    object \n",
      " 1   Cuisine       118 non-null    object \n",
      " 2   Location      118 non-null    object \n",
      " 3   Rating        118 non-null    float64\n",
      " 4   Cost_for_Two  118 non-null    object \n",
      "dtypes: float64(1), object(4)\n",
      "memory usage: 4.7+ KB\n"
     ]
    }
   ],
   "source": [
    "data.info()"
   ]
  },
  {
   "cell_type": "code",
   "execution_count": 16,
   "id": "c566edbc-d500-4f65-890e-f3fe2150de88",
   "metadata": {},
   "outputs": [
    {
     "data": {
      "text/html": [
       "<div>\n",
       "<style scoped>\n",
       "    .dataframe tbody tr th:only-of-type {\n",
       "        vertical-align: middle;\n",
       "    }\n",
       "\n",
       "    .dataframe tbody tr th {\n",
       "        vertical-align: top;\n",
       "    }\n",
       "\n",
       "    .dataframe thead th {\n",
       "        text-align: right;\n",
       "    }\n",
       "</style>\n",
       "<table border=\"1\" class=\"dataframe\">\n",
       "  <thead>\n",
       "    <tr style=\"text-align: right;\">\n",
       "      <th></th>\n",
       "      <th>Shop_Name</th>\n",
       "      <th>Cuisine</th>\n",
       "      <th>Location</th>\n",
       "      <th>Rating</th>\n",
       "      <th>Cost_for_Two</th>\n",
       "    </tr>\n",
       "  </thead>\n",
       "  <tbody>\n",
       "    <tr>\n",
       "      <th>0</th>\n",
       "      <td>Kanti Sweets</td>\n",
       "      <td>Sweets</td>\n",
       "      <td>Koramangala, Koramangala</td>\n",
       "      <td>4.3</td>\n",
       "      <td>₹ 150</td>\n",
       "    </tr>\n",
       "    <tr>\n",
       "      <th>1</th>\n",
       "      <td>Mumbai Tiffin</td>\n",
       "      <td>North Indian, Home Food, Thalis, Combo</td>\n",
       "      <td>Sector 5, HSR</td>\n",
       "      <td>4.4</td>\n",
       "      <td>₹ 400</td>\n",
       "    </tr>\n",
       "    <tr>\n",
       "      <th>2</th>\n",
       "      <td>Sri Krishna sagar</td>\n",
       "      <td>South Indian, North Indian, Fast Food, Beverag...</td>\n",
       "      <td>6th Block, Koramangala</td>\n",
       "      <td>4.1</td>\n",
       "      <td>₹ 126</td>\n",
       "    </tr>\n",
       "    <tr>\n",
       "      <th>3</th>\n",
       "      <td>Al Daaz</td>\n",
       "      <td>American, Arabian, Chinese, Desserts, Fast Foo...</td>\n",
       "      <td>HSR, HSR</td>\n",
       "      <td>4.4</td>\n",
       "      <td>₹ 400</td>\n",
       "    </tr>\n",
       "    <tr>\n",
       "      <th>4</th>\n",
       "      <td>Beijing Bites</td>\n",
       "      <td>Chinese, Thai</td>\n",
       "      <td>5th Block, Koramangala</td>\n",
       "      <td>4.1</td>\n",
       "      <td>₹ 450</td>\n",
       "    </tr>\n",
       "  </tbody>\n",
       "</table>\n",
       "</div>"
      ],
      "text/plain": [
       "           Shop_Name                                            Cuisine  \\\n",
       "0       Kanti Sweets                                             Sweets   \n",
       "1      Mumbai Tiffin             North Indian, Home Food, Thalis, Combo   \n",
       "2  Sri Krishna sagar  South Indian, North Indian, Fast Food, Beverag...   \n",
       "3            Al Daaz  American, Arabian, Chinese, Desserts, Fast Foo...   \n",
       "4      Beijing Bites                                      Chinese, Thai   \n",
       "\n",
       "                   Location  Rating Cost_for_Two  \n",
       "0  Koramangala, Koramangala     4.3        ₹ 150  \n",
       "1             Sector 5, HSR     4.4        ₹ 400  \n",
       "2    6th Block, Koramangala     4.1        ₹ 126  \n",
       "3                  HSR, HSR     4.4        ₹ 400  \n",
       "4    5th Block, Koramangala     4.1        ₹ 450  "
      ]
     },
     "execution_count": 16,
     "metadata": {},
     "output_type": "execute_result"
    }
   ],
   "source": [
    "data.head()"
   ]
  },
  {
   "cell_type": "code",
   "execution_count": 17,
   "id": "fefd506c-044f-40e5-b5b5-915bede3d938",
   "metadata": {},
   "outputs": [
    {
     "data": {
      "text/plain": [
       "array(['₹ 150', '₹ 400', '₹ 126', '₹ 400', '₹ 450', '₹ 350', '₹ 200',\n",
       "       '₹ 500', '₹ 350', '₹ 150', '₹ 500', '₹ 247', '₹ 550', '₹ 450',\n",
       "       '₹ 450', '₹ 150', '₹ 200', '₹ 200', '₹ 300', '₹ 350', '₹ 300',\n",
       "       '₹ 129', '₹ 400', '₹ 300', '₹ 150', '₹ 250', '₹ 250', '₹ 350',\n",
       "       '₹ 350', '₹ 500', '₹ 200', '₹ 300', '₹ 150', '₹ 268', '₹ 600',\n",
       "       '₹ 450', '₹ 600', '₹ 300', '₹ 250', '₹ 300', '₹ 300', '₹ 450',\n",
       "       '₹ 250', '₹ 250', '₹ 200', '₹ 250', '₹ 600', '₹ 350', '₹ 527',\n",
       "       '₹ 300', '₹ 250', '₹ 150', '₹ 350', '₹ 130', '₹ 257', '₹ 200',\n",
       "       '₹ 400', '₹ 300', '₹ 400', '₹ 200', '₹ 280', '₹ 250', '₹ 399',\n",
       "       '₹ 400', '₹ 150', '₹ 250', '₹ 220', '₹ 300', '₹ 300', '₹ 250',\n",
       "       '₹ 400', '₹ 200', '₹ 600', '₹ 800', '₹ 300', '₹ 350', '₹ 300',\n",
       "       '₹ 300', '₹ 200', '₹ 100', '₹ 450', '₹ 350', '₹ 150', '₹ 250',\n",
       "       '₹ 400', '₹ 450', '₹ 500', '₹ 350', '₹ 178', '₹ 100', '₹ 400',\n",
       "       '₹ 250', '₹ 500', '₹ 500', '₹ 250', '₹ 120', '₹ 250', '₹ 251',\n",
       "       '₹ 350', '₹ 650', '₹ 132', '₹ 200', '₹ 350', '₹ 300', '₹ 350',\n",
       "       '₹ 300', '₹ 350', '₹ 550', '₹ 350', '₹ 153', '₹ 500', '₹ 200',\n",
       "       '₹ 500', '₹ 219', '₹ 600', '₹ 193', '₹ 200', '₹ 400'], dtype=object)"
      ]
     },
     "execution_count": 17,
     "metadata": {},
     "output_type": "execute_result"
    }
   ],
   "source": [
    "data['Cost_for_Two'].values"
   ]
  },
  {
   "cell_type": "code",
   "execution_count": 18,
   "id": "7d983b1c-ba18-4432-809e-8d146fcc1e29",
   "metadata": {},
   "outputs": [],
   "source": [
    "data['Cost_for_Two']=data['Cost_for_Two'].str.replace('₹','')"
   ]
  },
  {
   "cell_type": "code",
   "execution_count": 19,
   "id": "21eefb83-ddb0-4364-8836-32a3072068a8",
   "metadata": {},
   "outputs": [],
   "source": [
    "data['Cost_for_Two']=data['Cost_for_Two'].astype(\"float\")"
   ]
  },
  {
   "cell_type": "code",
   "execution_count": 20,
   "id": "a329e90a-6ac4-4c9b-9a0b-ed7ffc0e3f86",
   "metadata": {},
   "outputs": [
    {
     "data": {
      "text/plain": [
       "array([150., 400., 126., 400., 450., 350., 200., 500., 350., 150., 500.,\n",
       "       247., 550., 450., 450., 150., 200., 200., 300., 350., 300., 129.,\n",
       "       400., 300., 150., 250., 250., 350., 350., 500., 200., 300., 150.,\n",
       "       268., 600., 450., 600., 300., 250., 300., 300., 450., 250., 250.,\n",
       "       200., 250., 600., 350., 527., 300., 250., 150., 350., 130., 257.,\n",
       "       200., 400., 300., 400., 200., 280., 250., 399., 400., 150., 250.,\n",
       "       220., 300., 300., 250., 400., 200., 600., 800., 300., 350., 300.,\n",
       "       300., 200., 100., 450., 350., 150., 250., 400., 450., 500., 350.,\n",
       "       178., 100., 400., 250., 500., 500., 250., 120., 250., 251., 350.,\n",
       "       650., 132., 200., 350., 300., 350., 300., 350., 550., 350., 153.,\n",
       "       500., 200., 500., 219., 600., 193., 200., 400.])"
      ]
     },
     "execution_count": 20,
     "metadata": {},
     "output_type": "execute_result"
    }
   ],
   "source": [
    "data['Cost_for_Two'].values"
   ]
  },
  {
   "cell_type": "markdown",
   "id": "adf46d96-6ba3-4256-a2d4-e0de67085849",
   "metadata": {},
   "source": [
    "Cleaned Data"
   ]
  },
  {
   "cell_type": "code",
   "execution_count": 22,
   "id": "dfdc9e79-e929-4ad2-8447-1ac167eccce2",
   "metadata": {},
   "outputs": [
    {
     "data": {
      "text/plain": [
       "Shop_Name        object\n",
       "Cuisine          object\n",
       "Location         object\n",
       "Rating          float64\n",
       "Cost_for_Two    float64\n",
       "dtype: object"
      ]
     },
     "execution_count": 22,
     "metadata": {},
     "output_type": "execute_result"
    }
   ],
   "source": [
    "data.dtypes"
   ]
  },
  {
   "cell_type": "code",
   "execution_count": 23,
   "id": "a5bf21b6-6eb1-492a-8b7f-c5714e8d30d4",
   "metadata": {},
   "outputs": [
    {
     "name": "stdout",
     "output_type": "stream",
     "text": [
      "<class 'pandas.core.frame.DataFrame'>\n",
      "RangeIndex: 118 entries, 0 to 117\n",
      "Data columns (total 5 columns):\n",
      " #   Column        Non-Null Count  Dtype  \n",
      "---  ------        --------------  -----  \n",
      " 0   Shop_Name     118 non-null    object \n",
      " 1   Cuisine       118 non-null    object \n",
      " 2   Location      118 non-null    object \n",
      " 3   Rating        118 non-null    float64\n",
      " 4   Cost_for_Two  118 non-null    float64\n",
      "dtypes: float64(2), object(3)\n",
      "memory usage: 4.7+ KB\n"
     ]
    }
   ],
   "source": [
    "data.info()"
   ]
  },
  {
   "cell_type": "code",
   "execution_count": 24,
   "id": "4739e987-55d7-4eca-9024-57d981054526",
   "metadata": {},
   "outputs": [
    {
     "data": {
      "text/html": [
       "<div>\n",
       "<style scoped>\n",
       "    .dataframe tbody tr th:only-of-type {\n",
       "        vertical-align: middle;\n",
       "    }\n",
       "\n",
       "    .dataframe tbody tr th {\n",
       "        vertical-align: top;\n",
       "    }\n",
       "\n",
       "    .dataframe thead th {\n",
       "        text-align: right;\n",
       "    }\n",
       "</style>\n",
       "<table border=\"1\" class=\"dataframe\">\n",
       "  <thead>\n",
       "    <tr style=\"text-align: right;\">\n",
       "      <th></th>\n",
       "      <th>Rating</th>\n",
       "      <th>Cost_for_Two</th>\n",
       "    </tr>\n",
       "  </thead>\n",
       "  <tbody>\n",
       "    <tr>\n",
       "      <th>count</th>\n",
       "      <td>118.000000</td>\n",
       "      <td>118.000000</td>\n",
       "    </tr>\n",
       "    <tr>\n",
       "      <th>mean</th>\n",
       "      <td>4.061864</td>\n",
       "      <td>321.008475</td>\n",
       "    </tr>\n",
       "    <tr>\n",
       "      <th>std</th>\n",
       "      <td>0.430845</td>\n",
       "      <td>137.286804</td>\n",
       "    </tr>\n",
       "    <tr>\n",
       "      <th>min</th>\n",
       "      <td>0.000000</td>\n",
       "      <td>100.000000</td>\n",
       "    </tr>\n",
       "    <tr>\n",
       "      <th>25%</th>\n",
       "      <td>4.000000</td>\n",
       "      <td>204.750000</td>\n",
       "    </tr>\n",
       "    <tr>\n",
       "      <th>50%</th>\n",
       "      <td>4.100000</td>\n",
       "      <td>300.000000</td>\n",
       "    </tr>\n",
       "    <tr>\n",
       "      <th>75%</th>\n",
       "      <td>4.300000</td>\n",
       "      <td>400.000000</td>\n",
       "    </tr>\n",
       "    <tr>\n",
       "      <th>max</th>\n",
       "      <td>4.800000</td>\n",
       "      <td>800.000000</td>\n",
       "    </tr>\n",
       "  </tbody>\n",
       "</table>\n",
       "</div>"
      ],
      "text/plain": [
       "           Rating  Cost_for_Two\n",
       "count  118.000000    118.000000\n",
       "mean     4.061864    321.008475\n",
       "std      0.430845    137.286804\n",
       "min      0.000000    100.000000\n",
       "25%      4.000000    204.750000\n",
       "50%      4.100000    300.000000\n",
       "75%      4.300000    400.000000\n",
       "max      4.800000    800.000000"
      ]
     },
     "execution_count": 24,
     "metadata": {},
     "output_type": "execute_result"
    }
   ],
   "source": [
    "data.describe()"
   ]
  },
  {
   "cell_type": "code",
   "execution_count": 25,
   "id": "f153cd2e-c6fb-4ce9-bf1f-96c2c8536d6e",
   "metadata": {},
   "outputs": [
    {
     "data": {
      "text/html": [
       "<div>\n",
       "<style scoped>\n",
       "    .dataframe tbody tr th:only-of-type {\n",
       "        vertical-align: middle;\n",
       "    }\n",
       "\n",
       "    .dataframe tbody tr th {\n",
       "        vertical-align: top;\n",
       "    }\n",
       "\n",
       "    .dataframe thead th {\n",
       "        text-align: right;\n",
       "    }\n",
       "</style>\n",
       "<table border=\"1\" class=\"dataframe\">\n",
       "  <thead>\n",
       "    <tr style=\"text-align: right;\">\n",
       "      <th></th>\n",
       "      <th>Shop_Name</th>\n",
       "      <th>Cuisine</th>\n",
       "      <th>Location</th>\n",
       "      <th>Rating</th>\n",
       "      <th>Cost_for_Two</th>\n",
       "    </tr>\n",
       "  </thead>\n",
       "  <tbody>\n",
       "    <tr>\n",
       "      <th>0</th>\n",
       "      <td>Kanti Sweets</td>\n",
       "      <td>Sweets</td>\n",
       "      <td>Koramangala, Koramangala</td>\n",
       "      <td>4.3</td>\n",
       "      <td>150.0</td>\n",
       "    </tr>\n",
       "    <tr>\n",
       "      <th>1</th>\n",
       "      <td>Mumbai Tiffin</td>\n",
       "      <td>North Indian, Home Food, Thalis, Combo</td>\n",
       "      <td>Sector 5, HSR</td>\n",
       "      <td>4.4</td>\n",
       "      <td>400.0</td>\n",
       "    </tr>\n",
       "    <tr>\n",
       "      <th>2</th>\n",
       "      <td>Sri Krishna sagar</td>\n",
       "      <td>South Indian, North Indian, Fast Food, Beverag...</td>\n",
       "      <td>6th Block, Koramangala</td>\n",
       "      <td>4.1</td>\n",
       "      <td>126.0</td>\n",
       "    </tr>\n",
       "    <tr>\n",
       "      <th>3</th>\n",
       "      <td>Al Daaz</td>\n",
       "      <td>American, Arabian, Chinese, Desserts, Fast Foo...</td>\n",
       "      <td>HSR, HSR</td>\n",
       "      <td>4.4</td>\n",
       "      <td>400.0</td>\n",
       "    </tr>\n",
       "    <tr>\n",
       "      <th>4</th>\n",
       "      <td>Beijing Bites</td>\n",
       "      <td>Chinese, Thai</td>\n",
       "      <td>5th Block, Koramangala</td>\n",
       "      <td>4.1</td>\n",
       "      <td>450.0</td>\n",
       "    </tr>\n",
       "  </tbody>\n",
       "</table>\n",
       "</div>"
      ],
      "text/plain": [
       "           Shop_Name                                            Cuisine  \\\n",
       "0       Kanti Sweets                                             Sweets   \n",
       "1      Mumbai Tiffin             North Indian, Home Food, Thalis, Combo   \n",
       "2  Sri Krishna sagar  South Indian, North Indian, Fast Food, Beverag...   \n",
       "3            Al Daaz  American, Arabian, Chinese, Desserts, Fast Foo...   \n",
       "4      Beijing Bites                                      Chinese, Thai   \n",
       "\n",
       "                   Location  Rating  Cost_for_Two  \n",
       "0  Koramangala, Koramangala     4.3         150.0  \n",
       "1             Sector 5, HSR     4.4         400.0  \n",
       "2    6th Block, Koramangala     4.1         126.0  \n",
       "3                  HSR, HSR     4.4         400.0  \n",
       "4    5th Block, Koramangala     4.1         450.0  "
      ]
     },
     "execution_count": 25,
     "metadata": {},
     "output_type": "execute_result"
    }
   ],
   "source": [
    "data.head()"
   ]
  },
  {
   "cell_type": "markdown",
   "id": "c1f7bcdd-c719-4c60-b603-40a3368a60a9",
   "metadata": {},
   "source": [
    "Data Analysis "
   ]
  },
  {
   "cell_type": "code",
   "execution_count": 27,
   "id": "ec1fc5a2-31d6-46c0-81e2-a516b8b16d20",
   "metadata": {},
   "outputs": [
    {
     "data": {
      "text/plain": [
       "<Axes: ylabel='Frequency'>"
      ]
     },
     "execution_count": 27,
     "metadata": {},
     "output_type": "execute_result"
    },
    {
     "data": {
      "image/png": "[encoded data removed]",
      "text/plain": [
       "<Figure size 500x400 with 1 Axes>"
      ]
     },
     "metadata": {},
     "output_type": "display_data"
    }
   ],
   "source": [
    "plt.figure(figsize=(5,4))\n",
    "data['Rating'].plot.hist(bins=8)"
   ]
  },
  {
   "cell_type": "code",
   "execution_count": 28,
   "id": "6ca1627e-df13-46d3-a561-da40156f53d1",
   "metadata": {},
   "outputs": [
    {
     "data": {
      "text/plain": [
       "<Axes: ylabel='Frequency'>"
      ]
     },
     "execution_count": 28,
     "metadata": {},
     "output_type": "execute_result"
    },
    {
     "data": {
      "image/png": "[encoded data removed]",
      "text/plain": [
       "<Figure size 700x400 with 1 Axes>"
      ]
     },
     "metadata": {},
     "output_type": "display_data"
    }
   ],
   "source": [
    "plt.figure(figsize=(7,4))\n",
    "data['Cost_for_Two'].plot.hist(bins=8)"
   ]
  },
  {
   "cell_type": "code",
   "execution_count": 29,
   "id": "eefc114c-07a7-480f-b747-1470c0d7f3c4",
   "metadata": {},
   "outputs": [
    {
     "data": {
      "image/png": "[encoded data removed]",
      "text/plain": [
       "<Figure size 700x300 with 2 Axes>"
      ]
     },
     "metadata": {},
     "output_type": "display_data"
    }
   ],
   "source": [
    "data.sort_values(by='Rating', ascending=False)\n",
    "plt.figure(figsize=(7,3))\n",
    "plt.scatter(data['Shop_Name'].head(),data['Rating'].head(),marker='D',c=data['Rating'].head())\n",
    "plt.colorbar()\n",
    "plt.title(\"Shop Names with respect to their Ratings\")\n",
    "plt.ylabel(\"RATINGS\")\n",
    "plt.xlabel(\"SHOP NAMES\")\n",
    "plt.tight_layout()\n",
    "plt.show()"
   ]
  },
  {
   "cell_type": "code",
   "execution_count": 30,
   "id": "8733c580-6f52-45a8-b84d-16116ee84d9f",
   "metadata": {},
   "outputs": [
    {
     "data": {
      "image/png": "[encoded data removed]",
      "text/plain": [
       "<Figure size 1500x500 with 1 Axes>"
      ]
     },
     "metadata": {},
     "output_type": "display_data"
    }
   ],
   "source": [
    "data.sort_values(by='Cost_for_Two', ascending=True)\n",
    "plt.figure(figsize=(15,5))\n",
    "plt.barh(width=data['Cost_for_Two'].head(),y=data['Cuisine'].head(),color='grey')\n",
    "plt.title(\"Cuisines with respect to their Costs\")\n",
    "plt.ylabel(\"CUISINES\")\n",
    "plt.xlabel(\"COSTS\")\n",
    "plt.tight_layout()\n",
    "plt.show()"
   ]
  },
  {
   "cell_type": "code",
   "execution_count": 31,
   "id": "1414f45b-0471-4317-85c4-a3da2e91e949",
   "metadata": {},
   "outputs": [
    {
     "data": {
      "image/png": "[encoded data removed]",
      "text/plain": [
       "<Figure size 640x480 with 1 Axes>"
      ]
     },
     "metadata": {},
     "output_type": "display_data"
    },
    {
     "data": {
      "text/plain": [
       "<Figure size 700x400 with 0 Axes>"
      ]
     },
     "metadata": {},
     "output_type": "display_data"
    }
   ],
   "source": [
    "plt.pie(labels=data['Cuisine'].head(),x=data['Cost_for_Two'].head(),shadow=True,explode=(0,0,0,0.1,0.1))\n",
    "plt.figure(figsize=(7,4))\n",
    "plt.show()"
   ]
  }
 ],
 "metadata": {
  "kernelspec": {
   "display_name": "Python 3 (ipykernel)",
   "language": "python",
   "name": "python3"
  },
  "language_info": {
   "codemirror_mode": {
    "name": "ipython",
    "version": 3
   },
   "file_extension": ".py",
   "mimetype": "text/x-python",
   "name": "python",
   "nbconvert_exporter": "python",
   "pygments_lexer": "ipython3",
   "version": "3.12.4"
  }
 },
 "nbformat": 4,
 "nbformat_minor": 5
}
